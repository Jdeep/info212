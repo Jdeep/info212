{
 "cells": [
  {
   "cell_type": "raw",
   "metadata": {},
   "source": []
  },
  {
   "cell_type": "markdown",
   "metadata": {},
   "source": [
    "<h1 style=\"text-align:center\"> Drexel University </h1>\n",
    "<h2 style = \"text-align:center\"> College of Computing and Informatics</h2>\n",
    "<h2 style = \"text-align:center\">INFO 212: Data Science Programming I</h2>\n",
    "<h3 style = \"text-align:center\">Assignment 4</h3>\n",
    "<div style=\"text-align:center; border-style:solid; padding: 10px\">\n",
    "<div style=\"font-weight:bold\">Due Date: Sunday, May 27, 2018</div>\n",
    "This assignment counts for 15% of the final grade\n",
    "</div>\n",
    "\n",
    "<h3 style=\"color:red; font-weight:bold; text-decoration: underline\">DON'T FORGET TO PUT YOUR NAME BELOW</h3>\n",
    "\n",
    "### NAME: Jasdeep Glamour\n",
    "\n",
    "\n",
    "### A. Assignment Overview\n",
    "This assignment provides the opportunity for you to practice with the capabilities of data wrangling in Python. \n",
    "\n",
    "### B. What to Hand In\n",
    "\t\n",
    "Sumbit a completed this Jupyter notebook. \n",
    "\n",
    "### C. How to Hand In\n",
    "\n",
    "Submit your Jupyter notebook file through the course website in the Blackboard Learn system.\n",
    "\n",
    "### D. When to Hand In\n",
    "\n",
    "1. Submit your assignment no later than 11:59pm in the due date.\n",
    "2. There will be a 10% (absolute value) deduction for each day of lateness, to a maximum of 3 days; assignments will not be accepted beyond that point. Missing work will earn a zero grade.\n",
    "\n",
    "### E. Written Presentation Requirements (if applicable)\n",
    "Images must be clear and legible. Assignments will be judged on the basis of visual appearance, grammatical correctness, and quality of writing, as well as their contents. Please make sure that the text of your assignments is well-structured, using paragraphs, full sentences, and other features of well-written presentation. Text font size should be either 11 or 12 points.\n",
    "\n",
    "### F. Marking Schemes:\n",
    "\n",
    "Marking assignments will be based on several aspects: presentation, correctness and coding styles. \n",
    "\n",
    "For programming questions, 10% of the mark will be judged on the coding style. \n",
    "\n",
    "The following is a set of guidelines for the coding style in this course:\n",
    "1. Write a good comment for each variable, each method, each control branch, and each loop.\n",
    "2. Use appropriate indentations to indicate control flows and blocks of code. \n",
    "3. Your method comments must mention the purpose of each parameter, and must be grammatically correct. \n",
    "4. Each line must be less than 80 characters long including tabs and spaces. \n",
    "5. Put a blank space before and after every operator. \n",
    "6. When breaking up a long line, break it before an operator, not after. \n",
    "\n",
    "### G. Data Sets\n",
    "\n",
    "This assignment needs the data sets specified in the questions.\n",
    "\n",
    "### H. Answer the following questions"
   ]
  },
  {
   "cell_type": "markdown",
   "metadata": {},
   "source": [
    "#### Question 1:\n",
    "\n",
    "Download the dataset: `loan-applications.csv` and load it into a data frame. The data set contains several hundreds of loan application data. This data set provides a glimse of what bank and insurance companies facing during their data analyses. The goal is to automate the loan application process based on applicants' information. This data set contains many features of applicants, including: Gender, Marital Status, Education, Number of Dependents, Income, Loan Amount, Credit History and others. The main problem is that the data set contains missing values and different types of data. Here, you are asked to write code to clean and visualize the data and answer the following questions:\n",
    "- List the number of missing values for each column.\n",
    "- Remove the applications each of which has more than 2 missing values.\n",
    "- Forward fill up the missing values for columns with Object data type.\n",
    "- Fill up the missing values with their means for columns with numerical data types.\n",
    "- After the above steps, show that there are no missing data in the DataFrame.\n",
    "- Plot the relationship between Education and ApplicantIncome.\n",
    "- Plot the relationship between Property_Area and Loan_Status.\n",
    "- Categorize the ApplicantIncome into low (0-2000), medium (2000-20000), High(20000-50000), and Rich(>50000).\n",
    "- Plot the relationship between Loan_Status and the categories of ApplicantIncome.\n",
    "- Categorize the CoapplicantIncome into low (0-2000), medium (2000-10000), High(10000-20000), and Rich(>20000).\n",
    "- Plot the relationship between Loan_Status and the categories of CoapplicantIncome. \n",
    "- Develop plots to show the relationships between Load_Status and Education, Married, Credit_History. \n",
    "- For all the columns with no-numerical data (except for Loan_ID), convert the values to numerical categorical representations."
   ]
  },
  {
   "cell_type": "code",
   "execution_count": 248,
   "metadata": {},
   "outputs": [],
   "source": [
    "import pandas as pd\n",
    "import numpy as np\n",
    "import re\n",
    "import seaborn as sns\n",
    "import matplotlib.pyplot as plt\n",
    "%matplotlib inline"
   ]
  },
  {
   "cell_type": "code",
   "execution_count": 249,
   "metadata": {},
   "outputs": [],
   "source": [
    "loan = pd.read_csv('datasets/loan-applications.csv')"
   ]
  },
  {
   "cell_type": "code",
   "execution_count": 250,
   "metadata": {},
   "outputs": [
    {
     "data": {
      "text/plain": [
       "Loan_ID               0\n",
       "Gender               13\n",
       "Married               3\n",
       "Dependents           15\n",
       "Education             0\n",
       "Self_Employed        32\n",
       "ApplicantIncome       0\n",
       "CoapplicantIncome     0\n",
       "LoanAmount           22\n",
       "Loan_Amount_Term     14\n",
       "Credit_History       50\n",
       "Property_Area         0\n",
       "Loan_Status           0\n",
       "dtype: int64"
      ]
     },
     "execution_count": 250,
     "metadata": {},
     "output_type": "execute_result"
    }
   ],
   "source": [
    "#List the number of missing values for each column.\n",
    "loan.isnull().sum(axis=0)"
   ]
  },
  {
   "cell_type": "code",
   "execution_count": 251,
   "metadata": {},
   "outputs": [],
   "source": [
    "#Remove the applications each of which has more than 2 missing values.\n",
    "cols_missing = loan[loan.isnull().sum(axis = 1) <2]"
   ]
  },
  {
   "cell_type": "code",
   "execution_count": 252,
   "metadata": {},
   "outputs": [
    {
     "name": "stdout",
     "output_type": "stream",
     "text": [
      "<class 'pandas.core.frame.DataFrame'>\n",
      "RangeIndex: 614 entries, 0 to 613\n",
      "Data columns (total 13 columns):\n",
      "Loan_ID              614 non-null object\n",
      "Gender               601 non-null object\n",
      "Married              611 non-null object\n",
      "Dependents           599 non-null object\n",
      "Education            614 non-null object\n",
      "Self_Employed        582 non-null object\n",
      "ApplicantIncome      614 non-null int64\n",
      "CoapplicantIncome    614 non-null float64\n",
      "LoanAmount           592 non-null float64\n",
      "Loan_Amount_Term     600 non-null float64\n",
      "Credit_History       564 non-null float64\n",
      "Property_Area        614 non-null object\n",
      "Loan_Status          614 non-null object\n",
      "dtypes: float64(4), int64(1), object(8)\n",
      "memory usage: 62.4+ KB\n"
     ]
    }
   ],
   "source": [
    "#get data types\n",
    "loan.info()\n",
    "#there are 3 data types: object, int64, float64"
   ]
  },
  {
   "cell_type": "code",
   "execution_count": 253,
   "metadata": {},
   "outputs": [],
   "source": [
    "#Forward fill up the missing values for columns with Object data type.\n",
    "for col in cols_missing:\n",
    "    if(loan[col].dtype == \"object\"):\n",
    "        loan[col].fillna(method = 'ffill', inplace = True)\n",
    "#Fill up the missing values with their means for columns with numerical data types.\n",
    "    elif(loan[col].dtype == 'int64' or loan[col].dtype == 'float64'):\n",
    "        loan[col].fillna(np.mean(loan[col]), inplace = True)"
   ]
  },
  {
   "cell_type": "code",
   "execution_count": 254,
   "metadata": {
    "scrolled": true
   },
   "outputs": [
    {
     "name": "stdout",
     "output_type": "stream",
     "text": [
      "The number or null values per column\n"
     ]
    },
    {
     "data": {
      "text/plain": [
       "Loan_ID              0\n",
       "Gender               0\n",
       "Married              0\n",
       "Dependents           0\n",
       "Education            0\n",
       "Self_Employed        0\n",
       "ApplicantIncome      0\n",
       "CoapplicantIncome    0\n",
       "LoanAmount           0\n",
       "Loan_Amount_Term     0\n",
       "Credit_History       0\n",
       "Property_Area        0\n",
       "Loan_Status          0\n",
       "dtype: int64"
      ]
     },
     "execution_count": 254,
     "metadata": {},
     "output_type": "execute_result"
    }
   ],
   "source": [
    "#After the above steps, show that there are no missing data in the DataFrame.\n",
    "print(\"The number or null values per column\")\n",
    "loan.isnull().sum(axis=0)"
   ]
  },
  {
   "cell_type": "code",
   "execution_count": 259,
   "metadata": {},
   "outputs": [
    {
     "data": {
      "text/plain": [
       "<function matplotlib.pyplot.tight_layout>"
      ]
     },
     "execution_count": 259,
     "metadata": {},
     "output_type": "execute_result"
    },
    {
     "data": {
      "text/plain": [
       "<matplotlib.figure.Figure at 0x7fa944897d30>"
      ]
     },
     "metadata": {},
     "output_type": "display_data"
    },
    {
     "data": {
      "image/png": "[encoded data removed]",
      "text/plain": [
       "<matplotlib.figure.Figure at 0x7fa943eceb38>"
      ]
     },
     "metadata": {},
     "output_type": "display_data"
    }
   ],
   "source": [
    "#Plot the relationship between Education and ApplicantIncome.\n",
    "plt.figure(figsize = (12, 9))\n",
    "loan[['ApplicantIncome', 'Education']].boxplot(column = 'ApplicantIncome', \n",
    "                                                  by ='Education', figsize = (12, 9))\n",
    "plt.title('relationship between Education and Applicant Income')\n",
    "plt.ylabel('Applicant Income')\n",
    "plt.xlabel('Education Level')\n",
    "plt.tight_layout"
   ]
  },
  {
   "cell_type": "code",
   "execution_count": 261,
   "metadata": {},
   "outputs": [
    {
     "data": {
      "text/html": [
       "<div>\n",
       "<style scoped>\n",
       "    .dataframe tbody tr th:only-of-type {\n",
       "        vertical-align: middle;\n",
       "    }\n",
       "\n",
       "    .dataframe tbody tr th {\n",
       "        vertical-align: top;\n",
       "    }\n",
       "\n",
       "    .dataframe thead th {\n",
       "        text-align: right;\n",
       "    }\n",
       "</style>\n",
       "<table border=\"1\" class=\"dataframe\">\n",
       "  <thead>\n",
       "    <tr style=\"text-align: right;\">\n",
       "      <th>Loan_Status</th>\n",
       "      <th>N</th>\n",
       "      <th>Y</th>\n",
       "    </tr>\n",
       "    <tr>\n",
       "      <th>Property_Area</th>\n",
       "      <th></th>\n",
       "      <th></th>\n",
       "    </tr>\n",
       "  </thead>\n",
       "  <tbody>\n",
       "    <tr>\n",
       "      <th>Rural</th>\n",
       "      <td>69</td>\n",
       "      <td>110</td>\n",
       "    </tr>\n",
       "    <tr>\n",
       "      <th>Semiurban</th>\n",
       "      <td>54</td>\n",
       "      <td>179</td>\n",
       "    </tr>\n",
       "    <tr>\n",
       "      <th>Urban</th>\n",
       "      <td>69</td>\n",
       "      <td>133</td>\n",
       "    </tr>\n",
       "  </tbody>\n",
       "</table>\n",
       "</div>"
      ],
      "text/plain": [
       "Loan_Status     N    Y\n",
       "Property_Area         \n",
       "Rural          69  110\n",
       "Semiurban      54  179\n",
       "Urban          69  133"
      ]
     },
     "execution_count": 261,
     "metadata": {},
     "output_type": "execute_result"
    }
   ],
   "source": [
    "#Plot the relationship between Property_Area and Loan_Status.\n",
    "PropCrossLoan =  pd.crosstab(loan['Property_Area'], loan['Loan_Status'])\n",
    "PropCrossLoan"
   ]
  },
  {
   "cell_type": "code",
   "execution_count": 263,
   "metadata": {},
   "outputs": [
    {
     "data": {
      "text/plain": [
       "<matplotlib.axes._subplots.AxesSubplot at 0x7fa944eae5c0>"
      ]
     },
     "execution_count": 263,
     "metadata": {},
     "output_type": "execute_result"
    },
    {
     "data": {
      "image/png": "[encoded data removed]",
      "text/plain": [
       "<matplotlib.figure.Figure at 0x7fa946931dd8>"
      ]
     },
     "metadata": {},
     "output_type": "display_data"
    }
   ],
   "source": [
    "#Plot the relationship between Property_Area and Loan_Status.\n",
    "PropCrossLoan.plot.bar()"
   ]
  },
  {
   "cell_type": "code",
   "execution_count": 267,
   "metadata": {},
   "outputs": [
    {
     "data": {
      "text/plain": [
       "Text(0.5,0,'Income Range')"
      ]
     },
     "execution_count": 267,
     "metadata": {},
     "output_type": "execute_result"
    },
    {
     "data": {
      "image/png": "[encoded data removed]",
      "text/plain": [
       "<matplotlib.figure.Figure at 0x7fa94480e828>"
      ]
     },
     "metadata": {},
     "output_type": "display_data"
    }
   ],
   "source": [
    "axis1 = loan['ApplicantIncome'].hist()\n",
    "axis1.set_title('Top 10 most populous countries at 1950')\n",
    "axis1.set_ylabel('Loans Requested')\n",
    "axis1.set_xlabel('Income Range')"
   ]
  },
  {
   "cell_type": "code",
   "execution_count": 269,
   "metadata": {},
   "outputs": [
    {
     "data": {
      "text/plain": [
       "0      medium\n",
       "1      medium\n",
       "2      medium\n",
       "3      medium\n",
       "4      medium\n",
       "5      medium\n",
       "6      medium\n",
       "7      medium\n",
       "8      medium\n",
       "9      medium\n",
       "10     medium\n",
       "11     medium\n",
       "12     medium\n",
       "13        low\n",
       "14        low\n",
       "15     medium\n",
       "16     medium\n",
       "17     medium\n",
       "18     medium\n",
       "19     medium\n",
       "20     medium\n",
       "21     medium\n",
       "22     medium\n",
       "23     medium\n",
       "24     medium\n",
       "25     medium\n",
       "26     medium\n",
       "27     medium\n",
       "28        low\n",
       "29     medium\n",
       "        ...  \n",
       "584    medium\n",
       "585    medium\n",
       "586    medium\n",
       "587    medium\n",
       "588    medium\n",
       "589    medium\n",
       "590    medium\n",
       "591    medium\n",
       "592    medium\n",
       "593    medium\n",
       "594    medium\n",
       "595    medium\n",
       "596    medium\n",
       "597    medium\n",
       "598    medium\n",
       "599    medium\n",
       "600       low\n",
       "601    medium\n",
       "602    medium\n",
       "603    medium\n",
       "604    medium\n",
       "605    medium\n",
       "606    medium\n",
       "607    medium\n",
       "608    medium\n",
       "609    medium\n",
       "610    medium\n",
       "611    medium\n",
       "612    medium\n",
       "613    medium\n",
       "Name: ApplicantIncome, Length: 614, dtype: category\n",
       "Categories (4, object): [low < medium < high < rich]"
      ]
     },
     "execution_count": 269,
     "metadata": {},
     "output_type": "execute_result"
    }
   ],
   "source": [
    "#Categorize the ApplicantIncome into low (0-2000), medium (2000-20000), High(20000-50000), and Rich(>50000).\n",
    "ranges = [0, 2000, 20000, 50000, float('inf')]\n",
    "levels = ['low', 'medium', 'high', 'rich']\n",
    "newCategories = pd.cut(loan['ApplicantIncome'], ranges, labels = levels)\n",
    "newCategories"
   ]
  },
  {
   "cell_type": "code",
   "execution_count": 270,
   "metadata": {},
   "outputs": [],
   "source": [
    "loan['ApplicantStatus'] = newCategories"
   ]
  },
  {
   "cell_type": "code",
   "execution_count": 273,
   "metadata": {},
   "outputs": [
    {
     "data": {
      "text/plain": [
       "Text(0.5,0,'Income Range')"
      ]
     },
     "execution_count": 273,
     "metadata": {},
     "output_type": "execute_result"
    },
    {
     "data": {
      "image/png": "[encoded data removed]",
      "text/plain": [
       "<matplotlib.figure.Figure at 0x7fa944730c50>"
      ]
     },
     "metadata": {},
     "output_type": "display_data"
    }
   ],
   "source": [
    "#Plot the relationship between Loan_Status and the categories of ApplicantIncome.\n",
    "axis2 = pd.crosstab(loan['ApplicantStatus'], loan['Loan_Status']).plot.bar()\n",
    "axis2.set_title('Loan Approval by Income Range')\n",
    "axis2.set_ylabel('Loans Requested')\n",
    "axis2.set_xlabel('Income Range')"
   ]
  },
  {
   "cell_type": "code",
   "execution_count": 281,
   "metadata": {},
   "outputs": [
    {
     "data": {
      "text/plain": [
       "Text(0.5,0,'Income Range')"
      ]
     },
     "execution_count": 281,
     "metadata": {},
     "output_type": "execute_result"
    },
    {
     "data": {
      "image/png": "[encoded data removed]",
      "text/plain": [
       "<matplotlib.figure.Figure at 0x7fa94475d400>"
      ]
     },
     "metadata": {},
     "output_type": "display_data"
    }
   ],
   "source": [
    "Coapp = loan['CoapplicantIncome'].hist()\n",
    "Coapp.set_title('Co-applicant Income Loan Request')\n",
    "Coapp.set_ylabel('Loans Requested')\n",
    "Coapp.set_xlabel('Income Range')"
   ]
  },
  {
   "cell_type": "code",
   "execution_count": 276,
   "metadata": {},
   "outputs": [
    {
     "data": {
      "text/plain": [
       "0         NaN\n",
       "1         low\n",
       "2         NaN\n",
       "3      medium\n",
       "4         NaN\n",
       "5      medium\n",
       "6         low\n",
       "7      medium\n",
       "8         low\n",
       "9        High\n",
       "10        low\n",
       "11        low\n",
       "12     medium\n",
       "13     medium\n",
       "14        low\n",
       "15        NaN\n",
       "16        NaN\n",
       "17        NaN\n",
       "18        NaN\n",
       "19     medium\n",
       "20        NaN\n",
       "21     medium\n",
       "22        low\n",
       "23        low\n",
       "24     medium\n",
       "25        NaN\n",
       "26     medium\n",
       "27        low\n",
       "28        NaN\n",
       "29     medium\n",
       "        ...  \n",
       "584       low\n",
       "585    medium\n",
       "586       low\n",
       "587       NaN\n",
       "588       NaN\n",
       "589       NaN\n",
       "590    medium\n",
       "591       NaN\n",
       "592       NaN\n",
       "593    medium\n",
       "594       NaN\n",
       "595       NaN\n",
       "596       low\n",
       "597       NaN\n",
       "598       NaN\n",
       "599       NaN\n",
       "600      Rich\n",
       "601    medium\n",
       "602       NaN\n",
       "603    medium\n",
       "604       NaN\n",
       "605    medium\n",
       "606    medium\n",
       "607       low\n",
       "608       low\n",
       "609       NaN\n",
       "610       NaN\n",
       "611       low\n",
       "612       NaN\n",
       "613       NaN\n",
       "Name: CoapplicantIncome, Length: 614, dtype: category\n",
       "Categories (4, object): [low < medium < High < Rich]"
      ]
     },
     "execution_count": 276,
     "metadata": {},
     "output_type": "execute_result"
    }
   ],
   "source": [
    "#Categorize the CoapplicantIncome into low (0-2000), medium (2000-10000), High(10000-20000), \n",
    "#and Rich(>20000).\n",
    "cate_Coapp = [0, 2000, 10000, 20000, float('inf')]\n",
    "range_Coapp = ['low', 'medium', 'High', 'Rich']\n",
    "new_Coapp = pd.cut(loan.CoapplicantIncome, cate_Coapp, labels = range_Coapp)\n",
    "new_Coapp"
   ]
  },
  {
   "cell_type": "code",
   "execution_count": 286,
   "metadata": {},
   "outputs": [
    {
     "data": {
      "text/html": [
       "<div>\n",
       "<style scoped>\n",
       "    .dataframe tbody tr th:only-of-type {\n",
       "        vertical-align: middle;\n",
       "    }\n",
       "\n",
       "    .dataframe tbody tr th {\n",
       "        vertical-align: top;\n",
       "    }\n",
       "\n",
       "    .dataframe thead th {\n",
       "        text-align: right;\n",
       "    }\n",
       "</style>\n",
       "<table border=\"1\" class=\"dataframe\">\n",
       "  <thead>\n",
       "    <tr style=\"text-align: right;\">\n",
       "      <th>Loan_Status</th>\n",
       "      <th>N</th>\n",
       "      <th>Y</th>\n",
       "    </tr>\n",
       "    <tr>\n",
       "      <th>Categorized_Coapplicant</th>\n",
       "      <th></th>\n",
       "      <th></th>\n",
       "    </tr>\n",
       "  </thead>\n",
       "  <tbody>\n",
       "    <tr>\n",
       "      <th>low</th>\n",
       "      <td>38</td>\n",
       "      <td>106</td>\n",
       "    </tr>\n",
       "    <tr>\n",
       "      <th>medium</th>\n",
       "      <td>53</td>\n",
       "      <td>138</td>\n",
       "    </tr>\n",
       "    <tr>\n",
       "      <th>High</th>\n",
       "      <td>3</td>\n",
       "      <td>1</td>\n",
       "    </tr>\n",
       "    <tr>\n",
       "      <th>Rich</th>\n",
       "      <td>2</td>\n",
       "      <td>0</td>\n",
       "    </tr>\n",
       "  </tbody>\n",
       "</table>\n",
       "</div>"
      ],
      "text/plain": [
       "Loan_Status               N    Y\n",
       "Categorized_Coapplicant         \n",
       "low                      38  106\n",
       "medium                   53  138\n",
       "High                      3    1\n",
       "Rich                      2    0"
      ]
     },
     "execution_count": 286,
     "metadata": {},
     "output_type": "execute_result"
    }
   ],
   "source": [
    "#Plot the relationship between Loan_Status and the categories of CoapplicantIncome.\n",
    "loan['Categorized_Coapplicant'] = new_Coapp\n",
    "axis3 = pd.crosstab(loan['Categorized_Coapplicant'], loan['Loan_Status'])\n",
    "axis3"
   ]
  },
  {
   "cell_type": "code",
   "execution_count": 287,
   "metadata": {},
   "outputs": [
    {
     "data": {
      "text/plain": [
       "Text(0.5,0,'Income Range')"
      ]
     },
     "execution_count": 287,
     "metadata": {},
     "output_type": "execute_result"
    },
    {
     "data": {
      "image/png": "[encoded data removed]",
      "text/plain": [
       "<matplotlib.figure.Figure at 0x7fa94470f630>"
      ]
     },
     "metadata": {},
     "output_type": "display_data"
    }
   ],
   "source": [
    "axis3 = pd.crosstab(loan['Categorized_Coapplicant'], loan['Loan_Status']).plot.bar()\n",
    "axis3.set_title('Co-applicant Income Loan Request')\n",
    "axis3.set_ylabel('Loans Requested')\n",
    "axis3.set_xlabel('Income Range')"
   ]
  },
  {
   "cell_type": "code",
   "execution_count": 291,
   "metadata": {},
   "outputs": [
    {
     "data": {
      "image/png": "[encoded data removed]",
      "text/plain": [
       "<matplotlib.figure.Figure at 0x7fa943a57ba8>"
      ]
     },
     "metadata": {},
     "output_type": "display_data"
    }
   ],
   "source": [
    "#Develop plots to show the relationships between Load_Status and Education, Married, Credit_History.\n",
    "rel = sns.FacetGrid(loan, col='Education', row=\"Married\", size=4)\n",
    "rel = rel.map(plt.hist, \"Loan_Status\")"
   ]
  },
  {
   "cell_type": "code",
   "execution_count": 292,
   "metadata": {},
   "outputs": [
    {
     "data": {
      "image/png": "[encoded data removed]",
      "text/plain": [
       "<matplotlib.figure.Figure at 0x7fa943889e48>"
      ]
     },
     "metadata": {},
     "output_type": "display_data"
    }
   ],
   "source": [
    "rel = sns.FacetGrid(loan, col='Education', row=\"Married\", size=4)\n",
    "rel = rel.map(plt.hist, \"Credit_History\")\n"
   ]
  },
  {
   "cell_type": "code",
   "execution_count": null,
   "metadata": {},
   "outputs": [],
   "source": [
    "#For all the columns with no-numerical data (except for Loan_ID), convert the values to numerical \n",
    "#categorical representations. (Gender, Married, Dependents, education, Self_Employed, Property_Area)\n",
    "loan['Gender'].replace({'Male': 1, 'Female': 0}, inplace = True)\n",
    "loan['Married'].replace({'No': 0, 'Yes': 1}, inplace = True)\n",
    "loan['Dependents'].replace({'0':0, '1':1, '2':2, '3+':3}, inplace= True)\n",
    "loan['Education'].replace({'Graduate':1, 'Not Graduate': 0}, inplace= True)\n",
    "loan['Self_Employed'].replace({'Yes':1, 'No': 0}, inplace= True)\n",
    "loan['Loan_Status'].replace({\"Y\":1,\"N\":0}, inplace= True)\n",
    "loan['Property_Area'].replace({'Urban':2, 'Semiurban': 1, 'Rural':0}, inplace= True)"
   ]
  },
  {
   "cell_type": "code",
   "execution_count": 243,
   "metadata": {},
   "outputs": [
    {
     "name": "stdout",
     "output_type": "stream",
     "text": [
      "<class 'pandas.core.frame.DataFrame'>\n",
      "RangeIndex: 614 entries, 0 to 613\n",
      "Data columns (total 14 columns):\n",
      "Loan_ID              614 non-null object\n",
      "Gender               614 non-null int64\n",
      "Married              614 non-null int64\n",
      "Dependents           614 non-null int64\n",
      "Education            614 non-null int64\n",
      "Self_Employed        614 non-null int64\n",
      "ApplicantIncome      614 non-null int64\n",
      "CoapplicantIncome    614 non-null float64\n",
      "LoanAmount           614 non-null float64\n",
      "Loan_Amount_Term     614 non-null float64\n",
      "Credit_History       614 non-null float64\n",
      "Property_Area        614 non-null int64\n",
      "Loan_Status          614 non-null int64\n",
      "ApplicantStatus      614 non-null object\n",
      "dtypes: float64(4), int64(8), object(2)\n",
      "memory usage: 67.2+ KB\n"
     ]
    }
   ],
   "source": [
    "loan.info()"
   ]
  },
  {
   "cell_type": "markdown",
   "metadata": {},
   "source": [
    "#### Question 2:\n",
    "Download the data set `imdb_1000.csv` and load it into a data frame. This data set contains rating information for about one thousand of movies. The following columns appear in the data set: star_rating, title, content_rating, genre, duration, and actors_list. Write code to clean and wrangle the data as instructed below:\n",
    "- The actors_list column contains strings each of which should have three actor names. Extract the three actor names and add three new columns: actor_1, actor_2, actor_3 in the data set. After the extraction, remove the column actors_list.\n",
    "\n",
    "**Note**: Your solution must be different from the kernel at: [https://www.kaggle.com/pkabir/imdb-movies-text-data-cleaning](https://www.kaggle.com/pkabir/imdb-movies-text-data-cleaning)"
   ]
  },
  {
   "cell_type": "code",
   "execution_count": 137,
   "metadata": {},
   "outputs": [],
   "source": [
    "# Write your code below\n",
    "movies = pd.read_csv('datasets/imdb_1000.csv')"
   ]
  },
  {
   "cell_type": "code",
   "execution_count": 139,
   "metadata": {},
   "outputs": [
    {
     "data": {
      "text/plain": [
       "\"[u'Tim Robbins', u'Morgan Freeman', u'Bob Gunton']\""
      ]
     },
     "execution_count": 139,
     "metadata": {},
     "output_type": "execute_result"
    }
   ],
   "source": [
    "#get list of actor, need to remove the following characters:\n",
    "# [, u, ] \n",
    "movies['actors_list'].loc[0]"
   ]
  },
  {
   "cell_type": "code",
   "execution_count": 140,
   "metadata": {},
   "outputs": [],
   "source": [
    "#remove opening square bracket \"[\", remove \"u\", remove close quote \"'\" \n",
    "# remove close bracket \"]\"\n",
    "rm_opsq = lambda s: re.sub(r'\\[', '',s)\n",
    "rm_u = lambda s: re.sub(r'u\\'','', s)\n",
    "rm_quote = lambda s: re.sub(r'\\'','', s)\n",
    "rm_clsq = lambda s: re.sub(r'\\]','', s)\n",
    "#split actor_list by comma to create an array or each actor\n",
    "split_actor = lambda s: s.split(',')"
   ]
  },
  {
   "cell_type": "code",
   "execution_count": 141,
   "metadata": {},
   "outputs": [],
   "source": [
    "actors = movies['actors_list'].map(rm_opsq).map(rm_u).map(rm_quote).map(rm_clsq)"
   ]
  },
  {
   "cell_type": "code",
   "execution_count": 142,
   "metadata": {},
   "outputs": [],
   "source": [
    "#split actor list by string and create dataframe called actors_df\n",
    "#and place the actors into 3 columns for each movie\n",
    "actors_df = pd.DataFrame(actors.map(split_actor).tolist(),\n",
    "                        columns =['actor1', 'actor2', 'actor3'])\n"
   ]
  },
  {
   "cell_type": "code",
   "execution_count": 143,
   "metadata": {},
   "outputs": [],
   "source": [
    "#add actors_df to movies\n",
    "movies['actor1'] = actors_df['actor1']\n",
    "movies['actor2'] = actors_df['actor2']\n",
    "movies['actor3'] = actors_df['actor3']\n",
    "# drop actors list column\n",
    "movies.drop(columns = ['actors_list'], inplace= True)"
   ]
  },
  {
   "cell_type": "code",
   "execution_count": 293,
   "metadata": {},
   "outputs": [
    {
     "data": {
      "text/html": [
       "<div>\n",
       "<style scoped>\n",
       "    .dataframe tbody tr th:only-of-type {\n",
       "        vertical-align: middle;\n",
       "    }\n",
       "\n",
       "    .dataframe tbody tr th {\n",
       "        vertical-align: top;\n",
       "    }\n",
       "\n",
       "    .dataframe thead th {\n",
       "        text-align: right;\n",
       "    }\n",
       "</style>\n",
       "<table border=\"1\" class=\"dataframe\">\n",
       "  <thead>\n",
       "    <tr style=\"text-align: right;\">\n",
       "      <th></th>\n",
       "      <th>star_rating</th>\n",
       "      <th>title</th>\n",
       "      <th>content_rating</th>\n",
       "      <th>genre</th>\n",
       "      <th>duration</th>\n",
       "      <th>actor1</th>\n",
       "      <th>actor2</th>\n",
       "      <th>actor3</th>\n",
       "    </tr>\n",
       "  </thead>\n",
       "  <tbody>\n",
       "    <tr>\n",
       "      <th>0</th>\n",
       "      <td>9.3</td>\n",
       "      <td>The Shawshank Redemption</td>\n",
       "      <td>R</td>\n",
       "      <td>Crime</td>\n",
       "      <td>142</td>\n",
       "      <td>Tim Robbins</td>\n",
       "      <td>Morgan Freeman</td>\n",
       "      <td>Bob Gunton</td>\n",
       "    </tr>\n",
       "    <tr>\n",
       "      <th>1</th>\n",
       "      <td>9.2</td>\n",
       "      <td>The Godfather</td>\n",
       "      <td>R</td>\n",
       "      <td>Crime</td>\n",
       "      <td>175</td>\n",
       "      <td>Marlon Brando</td>\n",
       "      <td>Al Pacino</td>\n",
       "      <td>James Caan</td>\n",
       "    </tr>\n",
       "    <tr>\n",
       "      <th>2</th>\n",
       "      <td>9.1</td>\n",
       "      <td>The Godfather: Part II</td>\n",
       "      <td>R</td>\n",
       "      <td>Crime</td>\n",
       "      <td>200</td>\n",
       "      <td>Al Pacino</td>\n",
       "      <td>Robert De Niro</td>\n",
       "      <td>Robert Duvall</td>\n",
       "    </tr>\n",
       "    <tr>\n",
       "      <th>3</th>\n",
       "      <td>9.0</td>\n",
       "      <td>The Dark Knight</td>\n",
       "      <td>PG-13</td>\n",
       "      <td>Action</td>\n",
       "      <td>152</td>\n",
       "      <td>Christian Bale</td>\n",
       "      <td>Heath Ledger</td>\n",
       "      <td>Aaron Eckhart</td>\n",
       "    </tr>\n",
       "    <tr>\n",
       "      <th>4</th>\n",
       "      <td>8.9</td>\n",
       "      <td>Pulp Fiction</td>\n",
       "      <td>R</td>\n",
       "      <td>Crime</td>\n",
       "      <td>154</td>\n",
       "      <td>John Travolta</td>\n",
       "      <td>Uma Thurman</td>\n",
       "      <td>Samuel L. Jackson</td>\n",
       "    </tr>\n",
       "    <tr>\n",
       "      <th>5</th>\n",
       "      <td>8.9</td>\n",
       "      <td>12 Angry Men</td>\n",
       "      <td>NOT RATED</td>\n",
       "      <td>Drama</td>\n",
       "      <td>96</td>\n",
       "      <td>Henry Fonda</td>\n",
       "      <td>Lee J. Cobb</td>\n",
       "      <td>Martin Balsam</td>\n",
       "    </tr>\n",
       "    <tr>\n",
       "      <th>6</th>\n",
       "      <td>8.9</td>\n",
       "      <td>The Good, the Bad and the Ugly</td>\n",
       "      <td>NOT RATED</td>\n",
       "      <td>Western</td>\n",
       "      <td>161</td>\n",
       "      <td>Clint Eastwood</td>\n",
       "      <td>Eli Wallach</td>\n",
       "      <td>Lee Van Cleef</td>\n",
       "    </tr>\n",
       "    <tr>\n",
       "      <th>7</th>\n",
       "      <td>8.9</td>\n",
       "      <td>The Lord of the Rings: The Return of the King</td>\n",
       "      <td>PG-13</td>\n",
       "      <td>Adventure</td>\n",
       "      <td>201</td>\n",
       "      <td>Elijah Wood</td>\n",
       "      <td>Viggo Mortensen</td>\n",
       "      <td>Ian McKellen</td>\n",
       "    </tr>\n",
       "    <tr>\n",
       "      <th>8</th>\n",
       "      <td>8.9</td>\n",
       "      <td>Schindler's List</td>\n",
       "      <td>R</td>\n",
       "      <td>Biography</td>\n",
       "      <td>195</td>\n",
       "      <td>Liam Neeson</td>\n",
       "      <td>Ralph Fiennes</td>\n",
       "      <td>Ben Kingsley</td>\n",
       "    </tr>\n",
       "    <tr>\n",
       "      <th>9</th>\n",
       "      <td>8.9</td>\n",
       "      <td>Fight Club</td>\n",
       "      <td>R</td>\n",
       "      <td>Drama</td>\n",
       "      <td>139</td>\n",
       "      <td>Brad Pitt</td>\n",
       "      <td>Edward Norton</td>\n",
       "      <td>Helena Bonham Carter</td>\n",
       "    </tr>\n",
       "  </tbody>\n",
       "</table>\n",
       "</div>"
      ],
      "text/plain": [
       "   star_rating                                          title content_rating  \\\n",
       "0          9.3                       The Shawshank Redemption              R   \n",
       "1          9.2                                  The Godfather              R   \n",
       "2          9.1                         The Godfather: Part II              R   \n",
       "3          9.0                                The Dark Knight          PG-13   \n",
       "4          8.9                                   Pulp Fiction              R   \n",
       "5          8.9                                   12 Angry Men      NOT RATED   \n",
       "6          8.9                 The Good, the Bad and the Ugly      NOT RATED   \n",
       "7          8.9  The Lord of the Rings: The Return of the King          PG-13   \n",
       "8          8.9                               Schindler's List              R   \n",
       "9          8.9                                     Fight Club              R   \n",
       "\n",
       "       genre  duration          actor1            actor2  \\\n",
       "0      Crime       142     Tim Robbins    Morgan Freeman   \n",
       "1      Crime       175   Marlon Brando         Al Pacino   \n",
       "2      Crime       200       Al Pacino    Robert De Niro   \n",
       "3     Action       152  Christian Bale      Heath Ledger   \n",
       "4      Crime       154   John Travolta       Uma Thurman   \n",
       "5      Drama        96     Henry Fonda       Lee J. Cobb   \n",
       "6    Western       161  Clint Eastwood       Eli Wallach   \n",
       "7  Adventure       201     Elijah Wood   Viggo Mortensen   \n",
       "8  Biography       195     Liam Neeson     Ralph Fiennes   \n",
       "9      Drama       139       Brad Pitt     Edward Norton   \n",
       "\n",
       "                  actor3  \n",
       "0             Bob Gunton  \n",
       "1             James Caan  \n",
       "2          Robert Duvall  \n",
       "3          Aaron Eckhart  \n",
       "4      Samuel L. Jackson  \n",
       "5          Martin Balsam  \n",
       "6          Lee Van Cleef  \n",
       "7           Ian McKellen  \n",
       "8           Ben Kingsley  \n",
       "9   Helena Bonham Carter  "
      ]
     },
     "execution_count": 293,
     "metadata": {},
     "output_type": "execute_result"
    }
   ],
   "source": [
    "movies.head(10)"
   ]
  },
  {
   "cell_type": "code",
   "execution_count": null,
   "metadata": {},
   "outputs": [],
   "source": []
  }
 ],
 "metadata": {
  "celltoolbar": "Raw Cell Format",
  "kernelspec": {
   "display_name": "Python 3",
   "language": "python",
   "name": "python3"
  },
  "language_info": {
   "codemirror_mode": {
    "name": "ipython",
    "version": 3
   },
   "file_extension": ".py",
   "mimetype": "text/x-python",
   "name": "python",
   "nbconvert_exporter": "python",
   "pygments_lexer": "ipython3",
   "version": "3.6.4"
  }
 },
 "nbformat": 4,
 "nbformat_minor": 2
}
